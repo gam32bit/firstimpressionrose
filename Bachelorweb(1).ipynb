{
 "cells": [
  {
   "cell_type": "markdown",
   "id": "7e937756-6986-476d-883a-82833abc6099",
   "metadata": {},
   "source": [
    "<h1>The Bachelor First Impression Rose Permutation Test</h1>"
   ]
  },
  {
   "cell_type": "markdown",
   "id": "a91ee46e-692a-40c5-9f47-6687c24308be",
   "metadata": {},
   "source": [
    "The purpose of this script is to gather and clean data from the Bachelor Nation Wiki, create a subset of First Impression Rose recipients and a subset of random contestants from the same seasons, and then run a permutation test with these subsets to determine whether the first impression rose is statistically significant in extending contestant runs on The Bachelor."
   ]
  },
  {
   "cell_type": "code",
   "execution_count": 4,
   "id": "cbe7b9d3-b029-4d4f-8d6d-841b4b16da58",
   "metadata": {},
   "outputs": [],
   "source": [
    "import pandas as pd\n",
    "import time\n",
    "from selenium import webdriver\n",
    "from selenium.webdriver.chrome.service import Service\n",
    "from selenium.webdriver.common.by import By\n",
    "from webdriver_manager.chrome import ChromeDriverManager\n",
    "pd.options.display.max_colwidth = 200\n",
    "import numpy as np\n",
    "import random\n",
    "import matplotlib.pyplot as plt"
   ]
  },
  {
   "cell_type": "markdown",
   "id": "ce643122-3b08-41c1-a158-214f5ca3393c",
   "metadata": {},
   "source": [
    "We create a Selenium Web-Scraping Driver for Chrome."
   ]
  },
  {
   "cell_type": "code",
   "execution_count": 2,
   "id": "8c6fcc18-66ea-4503-8c8a-4ef9f38f99b4",
   "metadata": {},
   "outputs": [
    {
     "name": "stderr",
     "output_type": "stream",
     "text": [
      "[WDM] - Downloading: 100%|█████████████████| 6.96M/6.96M [00:05<00:00, 1.31MB/s]\n"
     ]
    }
   ],
   "source": [
    "driver = webdriver.Chrome(service=Service(ChromeDriverManager().install()))"
   ]
  },
  {
   "cell_type": "markdown",
   "id": "25d2a295-72d2-4db2-954a-b0f19eebaedf",
   "metadata": {},
   "source": [
    "We load the Bachelor Nation Wiki Seasons page with a timer to account for loading time."
   ]
  },
  {
   "cell_type": "code",
   "execution_count": null,
   "id": "c6f4c963-7df6-4f59-a74a-bdaa7bef470a",
   "metadata": {},
   "outputs": [],
   "source": [
    "page_url = 'https://bachelor-nation.fandom.com/wiki/Category:The_Bachelor_seasons'\n",
    "driver.get(page_url)\n",
    "time.sleep(3)"
   ]
  },
  {
   "cell_type": "markdown",
   "id": "27569989-0905-435b-a4db-7b802d96fa3f",
   "metadata": {},
   "source": [
    "Find Season page links, put them in a list."
   ]
  },
  {
   "cell_type": "code",
   "execution_count": 4,
   "id": "0ed3a0df-860b-4e31-8f35-a257a1d3b596",
   "metadata": {},
   "outputs": [],
   "source": [
    "Bachelor_seasons = driver.find_elements(By.CLASS_NAME, 'category-page__member-link')\n",
    "time.sleep(3)"
   ]
  },
  {
   "cell_type": "code",
   "execution_count": 5,
   "id": "a7836887-d0de-4725-8652-95b8ac133abe",
   "metadata": {},
   "outputs": [],
   "source": [
    "seasons = []"
   ]
  },
  {
   "cell_type": "code",
   "execution_count": 6,
   "id": "9b0bce6d-48b4-4900-90d0-bc50914e1219",
   "metadata": {},
   "outputs": [],
   "source": [
    "for season in Bachelor_seasons:\n",
    "    season_url = season.get_attribute('href')\n",
    "    season_num = season.text\n",
    "    seasons.append({'season_num': season_num, \"url\": season_url})\n",
    "print"
   ]
  },
  {
   "cell_type": "markdown",
   "id": "a2ffa6a4-5642-4654-9ce6-7961358da506",
   "metadata": {},
   "source": [
    "Iterate through season pages to collect contestant information. Print complete to notify when done."
   ]
  },
  {
   "cell_type": "code",
   "execution_count": 7,
   "id": "ae4037ac-1e29-4076-b66d-e45cfae2e06e",
   "metadata": {},
   "outputs": [
    {
     "name": "stdout",
     "output_type": "stream",
     "text": [
      "complete\n"
     ]
    }
   ],
   "source": [
    "contestant_list = []\n",
    "for season in seasons:\n",
    "    # go to season page\n",
    "    driver.get(season['url'])\n",
    "    #find contestants by class, add them to list\n",
    "    contestant_elems = driver.find_elements(By.CLASS_NAME, 'lightbox-caption')\n",
    "    time.sleep(3)\n",
    "    for elem in contestant_elems:\n",
    "        contestant_list.append({'season': season['season_num'],'contestant': elem.text})\n",
    "print(\"complete\")     "
   ]
  },
  {
   "cell_type": "code",
   "execution_count": 8,
   "id": "8201e49a-afb4-487d-8739-c95659a0151e",
   "metadata": {},
   "outputs": [],
   "source": [
    "#Create contestant dataframe, convert season column to string\n",
    "contestants_df = pd.DataFrame(contestant_list)\n",
    "contestants_df['season'] = contestants_df['season'].astype(str)"
   ]
  },
  {
   "cell_type": "code",
   "execution_count": 33,
   "id": "d3510e9b-5b56-4a12-b1af-719228c68b03",
   "metadata": {},
   "outputs": [],
   "source": [
    "# remove seasons less than 9 and season 27\n",
    "contestants_df = contestants_df.loc[contestants_df['season'] != 'The Bachelor (Season 2)']\n",
    "contestants_df = contestants_df.loc[contestants_df['season'] != 'The Bachelor (Season 3)']\n",
    "contestants_df = contestants_df.loc[contestants_df['season'] != 'The Bachelor (Season 6)']\n",
    "contestants_df = contestants_df.loc[contestants_df['season'] != 'The Bachelor (Season 27)']"
   ]
  },
  {
   "cell_type": "code",
   "execution_count": 10,
   "id": "9695f9f5-4b3b-4cb8-ac99-be551d8fbe5a",
   "metadata": {},
   "outputs": [],
   "source": [
    "#remove non-contestant scraped elements (ring pics)\n",
    "contestants_df = contestants_df[contestants_df['contestant'].str.contains('\\n')]"
   ]
  },
  {
   "cell_type": "code",
   "execution_count": 110,
   "id": "c985cb38-7e5a-43be-8456-c2aa998b4b24",
   "metadata": {},
   "outputs": [],
   "source": [
    "#Create Dictionary of First Impression Rose Recipients, excluding outlier Season 17\n",
    "bachelor_firr_dict = {9:'Lisa Blank', 10:'Stephanie Tipper', 11:'Jenni Croft', 12:'Amanda Rantuccio', 13:'Nikki Kaapke',\n",
    "             14:'Tenley Molzahn', 15:'Ashley Spivey', 16:'Lindzi Cox', 18: 'Sharleen Joynt', 19:'Britt Nilsson',\n",
    "             20:'Olivia Caridi', 21:'Rachel Lindsay', 22:'Chelsea Roy', 23:'Hannah Godwin', 24:'Hannah Sluss',\n",
    "             25:'Abigail Heringer', 26:'Teddi Wright'}"
   ]
  },
  {
   "cell_type": "code",
   "execution_count": 12,
   "id": "211d87bf-14a8-4b65-b4ce-23bfd232c8a2",
   "metadata": {},
   "outputs": [],
   "source": [
    "#Dictionary to make seasons bite-size\n",
    "season_dict = {'The Bachelor (Season 9)':'9',\n",
    "               'The Bachelor (Season 10)':'10',\n",
    "               'The Bachelor (Season 11)':'11',\n",
    "               'The Bachelor (Season 12)':'12',\n",
    "               'The Bachelor (Season 13)':'13',\n",
    "               'The Bachelor (Season 14)':'14',\n",
    "               'The Bachelor (Season 15)':'15',\n",
    "               'The Bachelor (Season 16)':'16',\n",
    "               'The Bachelor (Season 17)':'17',\n",
    "               'The Bachelor (Season 18)':'18',\n",
    "               'The Bachelor (Season 19)':'19',\n",
    "               'The Bachelor (Season 20)':'20',\n",
    "               'The Bachelor (Season 21)':'21',\n",
    "               'The Bachelor (Season 22)':'22',\n",
    "               'The Bachelor (Season 23)':'23',\n",
    "               'The Bachelor (Season 24)':'24',\n",
    "               'The Bachelor (Season 25)':'25',\n",
    "               'The Bachelor (Season 26)':'26'}"
   ]
  },
  {
   "cell_type": "code",
   "execution_count": 116,
   "id": "6e56139d-47b1-45de-a9e4-c109bb167582",
   "metadata": {},
   "outputs": [],
   "source": [
    "#dictionary to convert which week contestant was eliminated into a number\n",
    "end_dict = {'week 1':1,\n",
    "            'week 2':2,\n",
    "            'week 3':3,\n",
    "            'week 4':4,\n",
    "            'week 5':5,\n",
    "            'week 6':6,\n",
    "            'week 7':7,\n",
    "            'week 8':8,\n",
    "            'week 9':9,\n",
    "            'Winner':10,\n",
    "            'Runner':10}"
   ]
  },
  {
   "cell_type": "code",
   "execution_count": 29,
   "id": "e7aa2945-642b-474d-af57-c2ee2a59b841",
   "metadata": {},
   "outputs": [],
   "source": [
    "#create index for number of lines in contestant text profiles\n",
    "contestants_df['idx'] = contestants_df['contestant'].str.count('\\n')"
   ]
  },
  {
   "cell_type": "code",
   "execution_count": 54,
   "id": "4fec0fdf-d4fa-44ee-934e-fa70ba768461",
   "metadata": {},
   "outputs": [],
   "source": [
    "#correct outlier contestant profiles with extra info\n",
    "contestants_df.loc[contestants_df.contestant.str.contains('Jordan Branch'), 'contestant'] = 'Jordan Branch\\n24\\nWindsor, Colorado\\nStudent\\nEliminated in week 2'\n",
    "contestants_df.loc[contestants_df.contestant.str.contains('Kimberly Sherbach'), 'contestant'] = 'Kimberly Sherbach\\n28\\nWantagh, New York\\nYoga Instructor\\nEliminated in week 1'\n",
    "contestants_df.loc[contestants_df.contestant.str.contains('Cassie Randolph'), 'contestant'] = 'Cassie Randolph\\n23\\nHuntington Beach, California\\nSpeech pathologist\\nWinner'\n",
    "contestants_df.loc[contestants_df.contestant.str.contains('Alayah Benavidez'), 'contestant'] = 'Alayah Benavidez\\n24\\nSan Antonio, Texas\\nMiss Texas 2019\\nEliminated in week 3'\n",
    "contestants_df.loc[contestants_df.contestant.str.contains('Susie Evans'), 'contestant'] = 'Susie Evans\\n28\\nWedding Videographer\\nPoquoson, Virginia\\nWinner'"
   ]
  },
  {
   "cell_type": "code",
   "execution_count": 57,
   "id": "33d52bf7-93b3-469c-9d27-7ede92f084d7",
   "metadata": {},
   "outputs": [],
   "source": [
    "#separate text into multiple columns. Lessons learned = use copies of dataframes and break down long equations to base elements to find errors\n",
    "cdf_final = contestants_df.copy()\n",
    "cdf_final[['Name', 'Age','Hometown','Occupation','End']] = contestants_df.contestant.str.split('\\n', expand=True)"
   ]
  },
  {
   "cell_type": "code",
   "execution_count": 105,
   "id": "1db47122-944e-4444-abcc-3160a0665eb0",
   "metadata": {},
   "outputs": [],
   "source": [
    "#fix nickname entries\n",
    "cdf_final.loc[cdf_final.contestant.str.contains('Nicole \"Nikki\" Kaapke'), 'Name'] = 'Nikki Kaapke'\n",
    "cdf_final.loc[cdf_final.contestant.str.contains('Lindsey \"Lindzi\" Cox'), 'Name'] = 'Lindzi Cox'\n"
   ]
  },
  {
   "cell_type": "code",
   "execution_count": 278,
   "id": "43c9a94e-825a-4b16-a492-4c3dc7c154a8",
   "metadata": {},
   "outputs": [],
   "source": [
    "#Permutation function\n",
    "def perm_fun(data, dict1, dict2):\n",
    "    #combines contestants into one list\n",
    "    total_list = list(dict1.values()) + list(dict2.values())\n",
    "    random.shuffle(total_list)\n",
    "    fake_keys = list(range(0, 17))\n",
    "    perm1 = {fake_keys[i]:total_list[:17][i] for i in range(len(fake_keys))}\n",
    "    perm2 = {fake_keys[i]:total_list[17:][i] for i in range(len(fake_keys))}\n",
    "    return abs(week_mean(data, perm1) - week_mean(data,perm2))\n"
   ]
  },
  {
   "cell_type": "code",
   "execution_count": 1,
   "id": "f965f9ff-8e4e-4783-b547-135c41b941b6",
   "metadata": {},
   "outputs": [],
   "source": [
    "#function for converting Elimination status to integers\n",
    "def convert_end(data, conv_dict):\n",
    "    clone_data = data.copy()\n",
    "    for idx, row in clone_data.iterrows():\n",
    "        end = row.End\n",
    "        for key, value in conv_dict.items():\n",
    "            if type(end) == int:\n",
    "                continue\n",
    "            elif key in end:\n",
    "                clone_data.at[idx, 'End'] = value\n",
    "    return clone_data"
   ]
  },
  {
   "cell_type": "code",
   "execution_count": 63,
   "id": "c85499dd-d7dc-4383-9c46-84915dc9d0d1",
   "metadata": {},
   "outputs": [],
   "source": [
    "#Map dictionaries to make dataframe easier to use, remove contestants eliminated in Week 1\n",
    "test_array = pd.array([10])\n",
    "cdf_final = cdf_final.replace({'season':season_dict})\n",
    "cdf_final_sub = cdf_final[cdf_final['End'] != 1]\n",
    "final_df = convert_end(cdf_final_sub, end_dict)"
   ]
  },
  {
   "cell_type": "code",
   "execution_count": 222,
   "id": "241bbb3f-2084-4e92-87bb-73f16eb224f3",
   "metadata": {},
   "outputs": [],
   "source": [
    "#function to calculate the average weeks lasted by one group of contestants\n",
    "def week_mean(data, group_dict):\n",
    "    total = []\n",
    "    for key, value in group_dict.items():\n",
    "        total.append(data.loc[data['Name'] == value, 'End'].item())\n",
    "    return np.mean(total)\n"
   ]
  },
  {
   "cell_type": "code",
   "execution_count": 310,
   "id": "2bb0103a-9620-41f3-a2d8-193686ba39d3",
   "metadata": {},
   "outputs": [],
   "source": [
    "# function to create list of the week each contestant of group was eliminated\n",
    "def week_total(data, group_dict):\n",
    "    total = []\n",
    "    for key, value in group_dict.items():\n",
    "        total.append(data.loc[data['Name'] == value, 'End'].item())\n",
    "    return total"
   ]
  },
  {
   "cell_type": "code",
   "execution_count": 239,
   "id": "fe0c7647-276a-4f62-abdd-2f869927f205",
   "metadata": {},
   "outputs": [],
   "source": [
    "#Function to create Control Group of Random contestants\n",
    "def test_group(data,group_dict):\n",
    "    random_dict = group_dict.copy()\n",
    "    for key, value in random_dict.items():\n",
    "        season_cont = data.loc[data['season'] == str(key)]\n",
    "        season_cont = season_cont.loc[season_cont['Name'] != value]\n",
    "        random_dict[key] = season_cont.Name.sample().item()\n",
    "    return random_dict\n",
    "        "
   ]
  },
  {
   "cell_type": "code",
   "execution_count": 391,
   "id": "84921e6b-8ebf-4276-8779-64f6a34b0b0f",
   "metadata": {},
   "outputs": [],
   "source": [
    "#Calculate Average Weeks Lasted for First Impression Rose Recipients\n",
    "firr_mean = week_mean(final_df, bachelor_firr_dict)\n",
    "firr_mean"
   ]
  },
  {
   "cell_type": "code",
   "execution_count": 392,
   "id": "8d531460-a513-484a-af2e-6a6abf74983b",
   "metadata": {},
   "outputs": [],
   "source": [
    "#Create Control Group of Random Contestants excluding FIRR\n",
    "control_group = test_group(final_df, bachelor_firr_dict)\n",
    "control_mean = week_mean(final_df, control_group)\n",
    "control_mean"
   ]
  },
  {
   "cell_type": "code",
   "execution_count": 309,
   "id": "ff86d807-f028-4074-8066-1d42c34a62e2",
   "metadata": {},
   "outputs": [],
   "source": [
    "#Calculate Observed Difference between FIRR and Control Group\n",
    "ground_truth = abs(firr_mean - control_mean)\n",
    "ground_truth"
   ]
  },
  {
   "cell_type": "code",
   "execution_count": 388,
   "id": "67f4e9ca-f594-4c93-b487-155a74be4fd0",
   "metadata": {},
   "outputs": [],
   "source": [
    "#Create Bar Chart to illustrate Average Weeks Lasted Differences between First Impression Rose Recipient and Control Groups\n",
    "bar_dict = {'FIRRs':firr_mean, 'Control': control_mean, 'Observed Difference':ground_truth}"
   ]
  },
  {
   "cell_type": "code",
   "execution_count": 389,
   "id": "dc95e3ce-7ea8-4709-abc5-8219862f18a2",
   "metadata": {},
   "outputs": [
    {
     "data": {
      "text/plain": [
       "Text(0.5, 1.0, 'Average Weeks Lasted')"
      ]
     },
     "execution_count": 389,
     "metadata": {},
     "output_type": "execute_result"
    },
    {
     "data": {
      "image/png": "iVBORw0KGgoAAAANSUhEUgAAAhoAAAGzCAYAAABpQr6dAAAAOXRFWHRTb2Z0d2FyZQBNYXRwbG90bGliIHZlcnNpb24zLjYuMywgaHR0cHM6Ly9tYXRwbG90bGliLm9yZy/P9b71AAAACXBIWXMAAA9hAAAPYQGoP6dpAAAxT0lEQVR4nO3dd3wVVf7/8fdNuwmQhBaESKgB6Si9Lb2EKiABNCugKBaqYIGfuyLf1QXLUlSIyGJwMS6gNEEBQQHpBvgiKEgvESkKmlAvmJzfHzwyXy8J5QYOmPB6Ph7zeDhnzpn5zDAx7zvlxmWMMQIAALDA73YXAAAAci+CBgAAsIagAQAArCFoAAAAawgaAADAGoIGAACwhqABAACsIWgAAABrCBoAAMAaggaAPxWXy6UBAwbc7jL+9KZNmyaXy6UDBw7c7lKAqyJo4I4wadIkuVwu1a1b93aX8qdSqVIlVa9ePVP73Llz5XK51KRJk0zL3n//fblcLn3xxRe3osSb6sCBA3K5XHrzzTdvyfbOnj2rl19+WStWrLgl2wP+jAgauCMkJiaqVKlS+uabb7Rnz57bXc6fRqNGjfTdd98pJSXFq33NmjUKCAhQUlKSLl68mGmZv7+/6tevfytLzZHOnj2rUaNGETRwRyNoINfbv3+/1q5dq7FjxyoiIkKJiYm3vIb09HSdP3/+lm/3Who1aqT09HStXbvWq33NmjXq3r27zp07p02bNnktW716tapVq6bQ0NBbWSqAHIqggVwvMTFRBQoUUPv27dWtWzevoHHx4kUVLFhQjzzySKZxqampCg4O1rPPPuu0eTwejRw5UtHR0XK73YqKitLzzz8vj8fjNTbjOYPExERVrlxZbrdbixcvliS9+eabatCggQoVKqSQkBDVrFlTn3zySabtnzt3ToMGDVLhwoUVGhqqTp066fDhw3K5XHr55Ze9+h4+fFiPPvqo7rrrLrndblWuXFnvv//+NY9No0aNJF0KFhnOnz+vzZs3q2vXripTpozXsp9//lm7du1yxvmy7es9dll55ZVX5Ofnp7fffttpe/vtt1W5cmXlyZNHBQoUUK1atfTRRx9dc13XIyEhQc2bN1eRIkXkdrtVqVIlxcfHZ+q3ceNGtWnTRoULF1ZISIhKly6tRx99VNKl2zQRERGSpFGjRsnlcmX6t/vhhx/UrVs3FSxYUMHBwapVq5Y+/fTTTNv5/vvv1bx5c4WEhKh48eJ65ZVXlJ6eflP2FbAt4HYXANiWmJiorl27KigoSA8++KDi4+OVlJSk2rVrKzAwUF26dNGcOXM0efJkBQUFOePmzZsnj8ejnj17Srp0VaJTp05avXq1+vXrp4oVK2rbtm0aN26cdu3apXnz5nlt96uvvtKsWbM0YMAAFS5cWKVKlZIkTZgwQZ06dVJcXJwuXLigGTNmKDY2VgsXLlT79u2d8X369NGsWbP08MMPq169elq5cqXX8gzHjh1TvXr1nHATERGhRYsWqW/fvkpNTdWQIUOueGzKlCmjyMhIrV692mlLSkrShQsX1KBBAzVo0EBr1qzRsGHDJMm58pERNK53274euz/629/+pn/+85+aPHmyHn/8cUnSlClTNGjQIHXr1k2DBw/W+fPntXXrVm3YsEEPPfTQFdd1veLj41W5cmV16tRJAQEBWrBggZ5++mmlp6erf//+kqTjx4+rdevWioiI0PDhw5U/f34dOHBAc+bMkSRFREQoPj5eTz31lLp06aKuXbtKkqpVqybpUnho2LCh7r77bg0fPlx58+bVrFmz1LlzZ82ePVtdunSRJB09elTNmjXT77//7vR77733FBIScsP7CdwSBsjFNm7caCSZpUuXGmOMSU9PN8WLFzeDBw92+ixZssRIMgsWLPAa265dO1OmTBlnfvr06cbPz8+sWrXKq9+7775rJJk1a9Y4bZKMn5+f+f777zPVdPbsWa/5CxcumCpVqpjmzZs7bZs2bTKSzJAhQ7z69unTx0gyI0eOdNr69u1rihUrZn755Revvj179jTh4eGZtne52NhYExISYi5cuGCMMWb06NGmdOnSxhhjJk2aZIoUKeL0ffbZZ40kc/jwYZ+27eux69+/vzHGmGHDhhk/Pz8zbdo0r3H333+/qVy58lX3Kyv79+83kswbb7xx1X5ZHbM2bdp4nQ9z5841kkxSUtIV1/Pzzz9n+vfK0KJFC1O1alVz/vx5py09Pd00aNDAlCtXzmkbMmSIkWQ2bNjgtB0/ftyEh4cbSWb//v1X3RfgduPWCXK1xMRE3XXXXWrWrJmkS7c0evTooRkzZigtLU2S1Lx5cxUuXFgzZ850xv36669aunSpevTo4bR9/PHHqlixoipUqKBffvnFmZo3by5JWr58ude2mzRpokqVKmWq6Y+fRH/99VelpKToL3/5izZv3uy0Z9xmefrpp73GDhw40GveGKPZs2erY8eOMsZ41dWmTRulpKR4rTcrjRo18noWY82aNWrQoIEkqWHDhjp+/Lh2797tLCtdurQiIyN92ravx84YowEDBmjChAn68MMP1bt3b6/l+fPn148//qikpKSr7lt2/fHfKCUlRb/88ouaNGmiffv2OQ/O5s+fX5K0cOHCTA/MXsvJkyf11VdfqXv37jp16pRzPE6cOKE2bdpo9+7dOnz4sCTp888/V7169VSnTh1nfEREhOLi4m5wL4Fb5LbGHMCi33//3RQrVsz07NnT7N6925lmzZplJJklS5Y4fZ944gkTGhrqfLr897//bSSZLVu2OH0qVqxoJF1xGjRokNNXknn00UezrGvBggWmbt26xu12e413uVxOn379+hk/Pz9z8eJFr7EpKSlen5CPHTt21ZokmTlz5lz1OGVcPXnzzTdNenq6KViwoJk0aZIxxpi0tDQTFhZmEhISzLlz50xQUJB5+OGHfd62r8cuX758RpKJj4/Psubt27ebu+++20gy0dHR5umnnzarV6++6n4ac/1XNFavXm1atGhh8uTJk6nWgwcPGmMuXX144IEHjCQTFhZmOnXqZN5//32vKxRXuqKxYcOGax67zZs3G2OMcbvdzjH/owkTJnBFAzkCz2gg1/rqq6905MgRzZgxQzNmzMi0PDExUa1bt5Yk9ezZU5MnT9aiRYvUuXNnzZo1SxUqVPD6jon09HRVrVpVY8eOzXJ7UVFRXvNZ3UNftWqVOnXqpMaNG2vSpEkqVqyYAgMDlZCQkK0HGTMeCPzrX/+a6VN/hoxnAq6kevXqCg0N1erVq9WuXTudPHnSuaLh5+enunXravXq1SpbtqwuXLjgPJ/hy7Z9PXYNGzbUli1b9M4776h79+4qWLCg1/KKFStq586dWrhwoRYvXqzZs2dr0qRJeumllzRq1Kir7u+17N27Vy1atFCFChU0duxYRUVFKSgoSJ9//rnGjRvn7LfL5dInn3yi9evXa8GCBVqyZIkeffRR/etf/9L69euVL1++K24jYx3PPvus2rRpk2Wf6OjoG9oP4M+CoIFcKzExUUWKFNHEiRMzLZszZ47mzp2rd999VyEhIWrcuLGKFSummTNnqlGjRvrqq6/04osveo0pW7asvv32W7Vo0UIulytbNc2ePVvBwcFasmSJ3G63056QkODVr2TJkkpPT9f+/ftVrlw5p/3y7wCJiIhQaGio0tLS1LJly2zV5O/vr3r16mnNmjVavXq1wsLCVLVqVWd5gwYNNHPmTOcXX0bQ8GXbvh676Ohovf7662ratKliYmL05ZdfZnqdNm/evOrRo4d69OihCxcuqGvXrnr11Vc1YsQIBQcH+3oYHAsWLJDH49Gnn36qEiVKOO2X397JUK9ePdWrV0+vvvqqPvroI8XFxWnGjBl67LHHrrivZcqUkSQFBgZe89iVLFnSuXX1Rzt37rzeXQJuK57RQK507tw5zZkzRx06dFC3bt0yTQMGDNCpU6ecVwn9/PzUrVs3LViwQNOnT9fvv//u9XyGJHXv3l2HDx/WlClTstzemTNnrlmXv7+/XC6X83yIdOk1yMvfusj4lDtp0iSv9j++3pmxvgceeECzZ8/Wd999l2l7P//88zVrki6Fh59//lkJCQmqW7eu/Pz+738NDRo00M6dOzV//nwVKlRIFStW9Hnb2Tl21apV0+eff64dO3aoY8eOOnfunLPsxIkTXn2DgoJUqVIlGWN8fl7icv7+/pIuPSeSISUlJVMY/PXXX736SNK9994rSc4ru3ny5JEk/fbbb179ihQpoqZNm2ry5Mk6cuRIphr+eOzatWun9evX65tvvvFafju+DwbIDq5oIFf69NNPderUKXXq1CnL5fXq1XO+vCsjUPTo0UNvv/22Ro4cqapVqzq/UDM8/PDDmjVrlp588kktX75cDRs2VFpamn744QfNmjVLS5YsUa1ata5aV/v27TV27FjFxMTooYce0vHjxzVx4kRFR0dr69atTr+aNWvqgQce0Pjx43XixAnn9dZdu3ZJktcn5TFjxmj58uWqW7euHn/8cVWqVEknT57U5s2btWzZMp08efKaxyvjKsW6desyfUdHxuur69evV8eOHbO17eweu3r16mn+/Plq166dunXrpnnz5ikwMFCtW7dW0aJF1bBhQ911113asWOH3nnnHbVv3/66vkjsyy+/zPIL1Dp37qzWrVsrKChIHTt21BNPPKHTp09rypQpKlKkiFco+OCDDzRp0iR16dJFZcuW1alTpzRlyhSFhYWpXbt2ki7dPqtUqZJmzpyp8uXLq2DBgqpSpYqqVKmiiRMnqlGjRqpataoef/xxlSlTRseOHdO6dev0448/6ttvv5UkPf/885o+fbpiYmI0ePBg5/XWkiVLep0zwJ/WbX5GBLCiY8eOJjg42Jw5c+aKffr06WMCAwOdVzPT09NNVFSUkWReeeWVLMdcuHDBvPbaa6Zy5crG7XabAgUKmJo1a5pRo0aZlJQUp5/+8Irm5aZOnWrKlStn3G63qVChgklISDAjR440l/84njlzxvTv398ULFjQ5MuXz3Tu3Nns3LnTSDJjxozx6nvs2DHTv39/ExUVZQIDA03RokVNixYtzHvvvXddx+vMmTMmICDASDJffPFFpuXVqlUzksxrr72Wadn1bvtGjt38+fNNQECA6dGjh0lLSzOTJ082jRs3NoUKFTJut9uULVvWPPfcc17ryUrGw6BXmqZPn26MMebTTz811apVM8HBwaZUqVLmtddeM++//77Xw5ebN282Dz74oClRooRxu92mSJEipkOHDmbjxo1e21y7dq2pWbOmCQoKyvRg6N69e02vXr1M0aJFTWBgoLn77rtNhw4dzCeffOK1jq1bt5omTZqY4OBgc/fdd5t//OMfZurUqTwMihzBZcxl1/4A/Glt2bJF9913nz788ENebwSQI/CMBvAn9cdnEjKMHz9efn5+aty48W2oCAB8xzMawJ/U66+/rk2bNqlZs2YKCAjQokWLtGjRIvXr1y/T66AA8GfFrRPgT2rp0qUaNWqUtm/frtOnT6tEiRJ6+OGH9eKLLyoggM8IAHIGggYAALCGZzQAAIA1BA0AAGDNLb/Rm56erp9++kmhoaHZ/hpnAABwaxljdOrUKUVGRnp9e/C13PKg8dNPP/HEPAAAOVRycrKKFy9+3f1vedDI+Hrg5ORkhYWF3erNAwCAbEhNTVVUVNR1fc3/H93yoJFxuyQsLIygAQBADuPrYw88DAoAAKwhaAAAAGsIGgAAwBqCBgAAsIagAQAArCFoAAAAawgaAADAGoIGAACwhqABAACsIWgAAABrCBoAAMAaggYAALCGoAEAAKzxKWiUKlVKLpcr09S/f39b9QEAgBzMpz8Tn5SUpLS0NGf+u+++U6tWrRQbG3vTC8uOUsM/u90l3BEOjGl/u0sAAOQQPgWNiIgIr/kxY8aobNmyatKkyU0tCgAA5A4+BY0/unDhgj788EMNHTpULpfriv08Ho88Ho8zn5qamt1NAgCAHCbbD4POmzdPv/32m/r06XPVfqNHj1Z4eLgzRUVFZXeTAAAgh8l20Jg6daratm2ryMjIq/YbMWKEUlJSnCk5OTm7mwQAADlMtm6dHDx4UMuWLdOcOXOu2dftdsvtdmdnMwAAIIfL1hWNhIQEFSlSRO3b8/YBAAC4Mp+DRnp6uhISEtS7d28FBGT7WVIAAHAH8DloLFu2TIcOHdKjjz5qox4AAJCL+HxJonXr1jLG2KgFAADkMvytEwAAYA1BAwAAWEPQAAAA1hA0AACANQQNAABgDUEDAABYQ9AAAADWEDQAAIA1BA0AAGANQQMAAFhD0AAAANYQNAAAgDUEDQAAYA1BAwAAWEPQAAAA1hA0AACANQQNAABgDUEDAABYQ9AAAADWEDQAAIA1BA0AAGANQQMAAFhD0AAAANYQNAAAgDUEDQAAYA1BAwAAWEPQAAAA1hA0AACANQQNAABgDUEDAABYQ9AAAADWEDQAAIA1BA0AAGANQQMAAFhD0AAAANYQNAAAgDUEDQAAYA1BAwAAWEPQAAAA1vgcNA4fPqy//vWvKlSokEJCQlS1alVt3LjRRm0AACCHC/Cl86+//qqGDRuqWbNmWrRokSIiIrR7924VKFDAVn0AACAH8ylovPbaa4qKilJCQoLTVrp06ZteFAAAyB18unXy6aefqlatWoqNjVWRIkV03333acqUKVcd4/F4lJqa6jUBAIA7g09BY9++fYqPj1e5cuW0ZMkSPfXUUxo0aJA++OCDK44ZPXq0wsPDnSkqKuqGiwYAADmDyxhjrrdzUFCQatWqpbVr1zptgwYNUlJSktatW5flGI/HI4/H48ynpqYqKipKKSkpCgsLu4HSMys1/LObuj5k7cCY9re7BADALZaamqrw8HCff3/7dEWjWLFiqlSpkldbxYoVdejQoSuOcbvdCgsL85oAAMCdwaeg0bBhQ+3cudOrbdeuXSpZsuRNLQoAAOQOPgWNZ555RuvXr9c///lP7dmzRx999JHee+899e/f31Z9AAAgB/MpaNSuXVtz587Vf//7X1WpUkX/+Mc/NH78eMXFxdmqDwAA5GA+fY+GJHXo0EEdOnSwUQsAAMhl+FsnAADAGoIGAACwhqABAACsIWgAAABrCBoAAMAaggYAALCGoAEAAKwhaAAAAGsIGgAAwBqCBgAAsIagAQAArCFoAAAAawgaAADAGoIGAACwhqABAACsIWgAAABrCBoAAMAaggYAALCGoAEAAKwhaAAAAGsIGgAAwBqCBgAAsIagAQAArCFoAAAAawgaAADAGoIGAACwhqABAACsIWgAAABrCBoAAMAaggYAALCGoAEAAKwhaAAAAGsIGgAAwBqCBgAAsIagAQAArCFoAAAAawgaAADAGoIGAACwhqABAACs8SlovPzyy3K5XF5ThQoVbNUGAAByuABfB1SuXFnLli37vxUE+LwKAABwh/A5JQQEBKho0aI2agEAALmMz89o7N69W5GRkSpTpozi4uJ06NChq/b3eDxKTU31mgAAwJ3Bp6BRt25dTZs2TYsXL1Z8fLz279+vv/zlLzp16tQVx4wePVrh4eHOFBUVdcNFAwCAnMFljDHZHfzbb7+pZMmSGjt2rPr27ZtlH4/HI4/H48ynpqYqKipKKSkpCgsLy+6ms1Rq+Gc3dX3I2oEx7W93CQCAWyw1NVXh4eE+//6+oSc58+fPr/Lly2vPnj1X7ON2u+V2u29kMwAAIIe6oe/ROH36tPbu3atixYrdrHoAAEAu4lPQePbZZ7Vy5UodOHBAa9euVZcuXeTv768HH3zQVn0AACAH8+nWyY8//qgHH3xQJ06cUEREhBo1aqT169crIiLCVn0AACAH8ylozJgxw1YdALLAA863Bg84A/bwt04AAIA1BA0AAGANQQMAAFhD0AAAANYQNAAAgDUEDQAAYA1BAwAAWEPQAAAA1hA0AACANQQNAABgDUEDAABYQ9AAAADWEDQAAIA1BA0AAGANQQMAAFhD0AAAANYQNAAAgDUEDQAAYA1BAwAAWEPQAAAA1hA0AACANQQNAABgDUEDAABYQ9AAAADWEDQAAIA1BA0AAGANQQMAAFhD0AAAANYQNAAAgDUEDQAAYA1BAwAAWEPQAAAA1hA0AACANQQNAABgDUEDAABYQ9AAAADWEDQAAIA1BA0AAGANQQMAAFhzQ0FjzJgxcrlcGjJkyE0qBwAA5CbZDhpJSUmaPHmyqlWrdjPrAQAAuUi2gsbp06cVFxenKVOmqECBAje7JgAAkEtkK2j0799f7du3V8uWLa/Z1+PxKDU11WsCAAB3hgBfB8yYMUObN29WUlLSdfUfPXq0Ro0a5XNhAAAg5/PpikZycrIGDx6sxMREBQcHX9eYESNGKCUlxZmSk5OzVSgAAMh5fLqisWnTJh0/flw1atRw2tLS0vT111/rnXfekcfjkb+/v9cYt9stt9t9c6oFAAA5ik9Bo0WLFtq2bZtX2yOPPKIKFSrohRdeyBQyAADAnc2noBEaGqoqVap4teXNm1eFChXK1A4AAMA3gwIAAGt8fuvkcitWrLgJZQAAgNyIKxoAAMAaggYAALCGoAEAAKwhaAAAAGsIGgAAwBqCBgAAsIagAQAArCFoAAAAawgaAADAGoIGAACwhqABAACsIWgAAABrCBoAAMAaggYAALCGoAEAAKwhaAAAAGsIGgAAwBqCBgAAsIagAQAArCFoAAAAawgaAADAGoIGAACwhqABAACsIWgAAABrCBoAAMAaggYAALCGoAEAAKwhaAAAAGsIGgAAwBqCBgAAsIagAQAArCFoAAAAawgaAADAGoIGAACwhqABAACsIWgAAABrCBoAAMAaggYAALCGoAEAAKzxKWjEx8erWrVqCgsLU1hYmOrXr69FixbZqg0AAORwPgWN4sWLa8yYMdq0aZM2btyo5s2b6/7779f3339vqz4AAJCDBfjSuWPHjl7zr776quLj47V+/XpVrlz5phYGAAByPp+Cxh+lpaXp448/1pkzZ1S/fv0r9vN4PPJ4PM58ampqdjcJAAByGJ8fBt22bZvy5csnt9utJ598UnPnzlWlSpWu2H/06NEKDw93pqioqBsqGAAA5Bw+B4177rlHW7Zs0YYNG/TUU0+pd+/e2r59+xX7jxgxQikpKc6UnJx8QwUDAICcw+dbJ0FBQYqOjpYk1axZU0lJSZowYYImT56cZX+32y23231jVQIAgBzphr9HIz093esZDAAAgAw+XdEYMWKE2rZtqxIlSujUqVP66KOPtGLFCi1ZssRWfQAAIAfzKWgcP35cvXr10pEjRxQeHq5q1appyZIlatWqla36AABADuZT0Jg6daqtOgAAQC7E3zoBAADWEDQAAIA1BA0AAGANQQMAAFhD0AAAANYQNAAAgDUEDQAAYA1BAwAAWEPQAAAA1hA0AACANQQNAABgDUEDAABYQ9AAAADWEDQAAIA1BA0AAGANQQMAAFhD0AAAANYQNAAAgDUEDQAAYA1BAwAAWEPQAAAA1hA0AACANQQNAABgDUEDAABYQ9AAAADWEDQAAIA1BA0AAGANQQMAAFhD0AAAANYQNAAAgDUEDQAAYA1BAwAAWEPQAAAA1hA0AACANQG3uwAAwJ2h1PDPbncJd4QDY9rf7hK8cEUDAABYQ9AAAADWEDQAAIA1BA0AAGCNT0Fj9OjRql27tkJDQ1WkSBF17txZO3futFUbAADI4XwKGitXrlT//v21fv16LV26VBcvXlTr1q115swZW/UBAIAczKfXWxcvXuw1P23aNBUpUkSbNm1S48aNb2phAAAg57uh79FISUmRJBUsWPCKfTwejzwejzOfmpp6I5sEAAA5SLYfBk1PT9eQIUPUsGFDValS5Yr9Ro8erfDwcGeKiorK7iYBAEAOk+2g0b9/f3333XeaMWPGVfuNGDFCKSkpzpScnJzdTQIAgBwmW7dOBgwYoIULF+rrr79W8eLFr9rX7XbL7XZnqzgAAJCz+RQ0jDEaOHCg5s6dqxUrVqh06dK26gIAALmAT0Gjf//++uijjzR//nyFhobq6NGjkqTw8HCFhIRYKRAAAORcPj2jER8fr5SUFDVt2lTFihVzppkzZ9qqDwAA5GA+3zoBAAC4XvytEwAAYA1BAwAAWEPQAAAA1hA0AACANQQNAABgDUEDAABYQ9AAAADWEDQAAIA1BA0AAGANQQMAAFhD0AAAANYQNAAAgDUEDQAAYA1BAwAAWEPQAAAA1hA0AACANQQNAABgDUEDAABYQ9AAAADWEDQAAIA1BA0AAGANQQMAAFhD0AAAANYQNAAAgDUEDQAAYA1BAwAAWEPQAAAA1hA0AACANQQNAABgDUEDAABYQ9AAAADWEDQAAIA1BA0AAGANQQMAAFhD0AAAANYQNAAAgDUEDQAAYA1BAwAAWEPQAAAA1vgcNL7++mt17NhRkZGRcrlcmjdvnoWyAABAbuBz0Dhz5oyqV6+uiRMn2qgHAADkIgG+Dmjbtq3atm173f09Ho88Ho8zn5qa6usmAQBADmX9GY3Ro0crPDzcmaKiomxvEgAA/ElYDxojRoxQSkqKMyUnJ9veJAAA+JPw+daJr9xut9xut+3NAACAPyFebwUAANYQNAAAgDU+3zo5ffq09uzZ48zv379fW7ZsUcGCBVWiRImbWhwAAMjZfA4aGzduVLNmzZz5oUOHSpJ69+6tadOm3bTCAABAzudz0GjatKmMMTZqAQAAuQzPaAAAAGsIGgAAwBqCBgAAsIagAQAArCFoAAAAawgaAADAGoIGAACwhqABAACsIWgAAABrCBoAAMAaggYAALCGoAEAAKwhaAAAAGsIGgAAwBqCBgAAsIagAQAArCFoAAAAawgaAADAGoIGAACwhqABAACsIWgAAABrCBoAAMAaggYAALCGoAEAAKwhaAAAAGsIGgAAwBqCBgAAsIagAQAArCFoAAAAawgaAADAGoIGAACwhqABAACsIWgAAABrCBoAAMAaggYAALCGoAEAAKwhaAAAAGsIGgAAwJpsBY2JEyeqVKlSCg4OVt26dfXNN9/c7LoAAEAu4HPQmDlzpoYOHaqRI0dq8+bNql69utq0aaPjx4/bqA8AAORgPgeNsWPH6vHHH9cjjzyiSpUq6d1331WePHn0/vvv26gPAADkYAG+dL5w4YI2bdqkESNGOG1+fn5q2bKl1q1bl+UYj8cjj8fjzKekpEiSUlNTs1PvVaV7zt70dSIzG/92yBrn9K3BOX1rcD7fGrbO54z1GmN8GudT0Pjll1+Ulpamu+66y6v9rrvu0g8//JDlmNGjR2vUqFGZ2qOionzZNP5Ewsff7gqAm4tzGrmJ7fP51KlTCg8Pv+7+PgWN7BgxYoSGDh3qzKenp+vkyZMqVKiQXC6X7c3/qaWmpioqKkrJyckKCwu73eUAN4xzGrkJ57M3Y4xOnTqlyMhIn8b5FDQKFy4sf39/HTt2zKv92LFjKlq0aJZj3G633G63V1v+/Pl9KjK3CwsL4yRGrsI5jdyE8/n/+HIlI4NPD4MGBQWpZs2a+vLLL5229PR0ffnll6pfv77PGwcAALmbz7dOhg4dqt69e6tWrVqqU6eOxo8frzNnzuiRRx6xUR8AAMjBfA4aPXr00M8//6yXXnpJR48e1b333qvFixdnekAU1+Z2uzVy5MhMt5aAnIpzGrkJ5/PN4TK+vqcCAABwnfhbJwAAwBqCBgAAsIagAQAArCFoAAAAawgaAP70VqxYIZfLpd9+++12l3LHK1WqlMaPH3+7y7hpbub+XL6uo0ePqlWrVsqbN6/zRZVZteV2BI1s6tOnj1wuV6Zpz5496tOnjzp37pxl38DAQJUuXVrPP/+8zp8/77XOP64nLCxMtWvX1vz582/xnuFOcPToUQ0cOFBlypSR2+1WVFSUOnbs6PVlfDeqadOmGjJkyE1bH+xKTk7Wo48+qsjISAUFBalkyZIaPHiwTpw4cbtLu61efvll5//LAQEBKly4sBo3bqzx48d7/cFQSUpKSlK/fv2c+XHjxunIkSPasmWLdu3adcW23I6gcQNiYmJ05MgRr6l06dJX7btv3z6NGzdOkydP1siRIzP1S0hI0JEjR7Rx40Y1bNhQ3bp107Zt22zvCu4gBw4cUM2aNfXVV1/pjTfe0LZt27R48WI1a9ZM/fv3v6W1GGP0+++/39JtIrN9+/apVq1a2r17t/773/9qz549evfdd51vfT558uRtqy0tLU3p6em3bfuSVLlyZR05ckSHDh3S8uXLFRsbq9GjR6tBgwY6deqU0y8iIkJ58uRx5vfu3auaNWuqXLlyKlKkyBXbfHXhwoUb26FbzSBbevfube6///7rWpZV365du5r77rvPq02SmTt3rjOfmppqJJkJEyY4bVu2bDFNmzY1+fLlM6GhoaZGjRomKSnpRncHd5C2bduau+++25w+fTrTsl9//dUYY8zBgwdNp06dTN68eU1oaKiJjY01R48edfqNHDnSVK9e3fznP/8xJUuWNGFhYaZHjx4mNTXVGHPpnJfkNe3fv98sX77cSDKff/65qVGjhgkMDDTLly8358+fNwMHDjQRERHG7Xabhg0bmm+++cbZXsa4jPpwc8XExJjixYubs2fPerUfOXLE5MmTxzz55JNOW8mSJc3//M//mJ49e5o8efKYyMhI88477zjL09PTzciRI01UVJQJCgoyxYoVMwMHDnSWnz9/3gwbNsxERkaaPHnymDp16pjly5c7yxMSEkx4eLiZP3++qVixovH39zeTJ082brc707//oEGDTLNmzZz5VatWmUaNGpng4GBTvHhxM3DgQK/z/NixY6ZDhw4mODjYlCpVynz44YemZMmSZty4cVc8Nhnn+uV27NhhgoKCzIsvvuh1bDLWVbJkSa/zv3fv3lm2GXPp565v376mcOHCJjQ01DRr1sxs2bIlUw1TpkwxpUqVMi6Xy6dxV/o5NcaYtLQ089prr5myZcuaoKAgExUVZV555RVn+aFDh0xsbKwJDw83BQoUMJ06dTL79++/4vHKClc0boPvvvtOa9euVVBQ0BX7/P7775o6daokefWLi4tT8eLFlZSUpE2bNmn48OEKDAy0XjNyh5MnT2rx4sXq37+/8ubNm2l5/vz5lZ6ervvvv18nT57UypUrtXTpUu3bt089evTw6rt3717NmzdPCxcu1MKFC7Vy5UqNGTNGkjRhwgTVr19fjz/+uHO1Lyoqyhk7fPhwjRkzRjt27FC1atX0/PPPa/bs2frggw+0efNmRUdHq02bNrf1k/Sd4uTJk1qyZImefvpphYSEeC0rWrSo4uLiNHPmTJk/fLfjG2+8oerVq+t///d/NXz4cA0ePFhLly6VJM2ePdu5art7927NmzdPVatWdcYOGDBA69at04wZM7R161bFxsYqJiZGu3fvdvqcPXtWr732mv7973/r+++/V1xcnPLnz6/Zs2c7fdLS0jRz5kzFxcVJunQ+xsTE6IEHHtDWrVs1c+ZMrV69WgMGDHDG9OnTR8nJyVq+fLk++eQTTZo0ScePH8/WcatQoYLatm2rOXPmZLk8KSlJMTEx6t69u44cOaIJEyZk2SZJsbGxOn78uBYtWqRNmzapRo0aatGihdf5v2fPHs2ePVtz5szRli1brnvc1X5OpUt/YX3MmDH6+9//ru3bt+ujjz5yvun74sWLatOmjUJDQ7Vq1SqtWbNG+fLlU0xMjG9XVXyKJXD07t3b+Pv7m7x58zpTt27dnGWXX9HI6Ot2u40k4+fnZz755BOvdUoywcHBJm/evMbPz89IMqVKlTInTpxw+oSGhppp06bdkn1E7rNhwwYjycyZM+eKfb744gvj7+9vDh065LR9//33RpJzlWHkyJEmT548Xp+MnnvuOVO3bl1nvkmTJmbw4MFe6864MjFv3jyn7fTp0yYwMNAkJiY6bRcuXDCRkZHm9ddf9xrHFY2bb/369Zmupv7R2LFjjSRz7NgxY8ylT+oxMTFefXr06GHatm1rjDHmX//6lylfvry5cOFCpnUdPHjQ+Pv7m8OHD3u1t2jRwowYMcIYc+mKhiSvT+bGGDN48GDTvHlzZ37JkiVeVzn69u1r+vXr5zVm1apVxs/Pz5w7d87s3LnT6xw25tJVCUnZuqJhjDEvvPCCCQkJceYvvzpy//33O1ctrtS2atUqExYWZs6fP+/Vr2zZsmby5MlODYGBgeb48eM+j7vaz2lqaqpxu91mypQpWe7f9OnTzT333GPS09OdNo/HY0JCQsySJUuyHJMVn//WCf5Ps2bNFB8f78xn9Qnx8r5nzpzRuHHjFBAQoAceeCBTv3Hjxqlly5bat2+fnnnmGb311lsqWLCgs3zo0KF67LHHNH36dLVs2VKxsbEqW7bszd0x5FrmOv7iwI4dOxQVFeV1BaJSpUrKnz+/duzYodq1a0u69IR9aGio06dYsWLX/emwVq1azn/v3btXFy9eVMOGDZ22wMBA1alTRzt27Liu9eHGXc+5keHyv9Zdv359522L2NhYjR8/XmXKlFFMTIzatWunjh07KiAgQNu2bVNaWprKly/vNd7j8ahQoULOfFBQkKpVq+bVJy4uTvXq1dNPP/2kyMhIJSYmqn379s6bG99++622bt2qxMREr31KT0/X/v37tWvXLgUEBKhmzZrO8goVKtzQmx/GGLlcrmyPly7Vffr0aa/9l6Rz585p7969znzJkiUVERHh87ir/Zzu2LFDHo9HLVq0uGJte/bs8RovSefPn/faxrUQNG5A3rx5FR0d7XPf999/X9WrV9fUqVPVt29fr35FixZVdHS0oqOjlZCQoHbt2mn79u3OQ0Mvv/yyHnroIX322WdatGiRRo4cqRkzZqhLly43d+eQK5UrV04ul0s//PDDDa/r8lt2Lpfruh/au1oox60VHR0tl8ulHTt2ZPn/kR07dqhAgQJev+SuJioqSjt37tSyZcu0dOlSPf3003rjjTe0cuVKnT59Wv7+/tq0aZP8/f29xuXLl8/575CQkEy/wGvXrq2yZctqxowZeuqppzR37lxNmzbNWX769Gk98cQTGjRoUKaaSpQoYeUNjx07dlzxBYDrdfr0aRUrVkwrVqzItOyPIejyn5nrHXe1n9PLb5VlVVvNmjW9wluG6z0fJN46uS38/Pz0//7f/9Pf/vY3nTt37or96tSpo5o1a+rVV1/1ai9fvryeeeYZffHFF+ratasSEhJsl4xcomDBgmrTpo0mTpyoM2fOZFr+22+/qWLFikpOTlZycrLTvn37dv3222+qVKnSdW8rKChIaWlp1+xXtmxZBQUFac2aNU7bxYsXlZSU5NP2kD2FChVSq1atNGnSpEz/Pzp69KgSExPVo0cPr1/869ev9+q3fv16VaxY0ZkPCQlRx44d9dZbb2nFihVat26dtm3bpvvuu09paWk6fvy484EqYypatOg1a42Li1NiYqIWLFggPz8/tW/f3llWo0YNbd++PdN6o6OjFRQUpAoVKuj333/Xpk2bnDE7d+7M9nez/PDDD1q8eHGWV6Z9UaNGDR09elQBAQGZ6i5cuPBNH/dH5cqVU0hIyBVfa69Ro4Z2796tIkWKZNpGeHj4de8jQeM2iY2Nlb+/vyZOnHjVfkOGDNHkyZN1+PBhnTt3TgMGDNCKFSt08OBBrVmzRklJSV4/4MC1TJw4UWlpaapTp45mz56t3bt3a8eOHXrrrbdUv359tWzZUlWrVlVcXJw2b96sb775Rr169VKTJk28bnlcS6lSpbRhwwYdOHBAv/zyyxWvduTNm1dPPfWUnnvuOS1evFjbt2/X448/rrNnz2a64gc73nnnHXk8HrVp00Zff/21kpOTtXjxYrVq1Up33313pg87a9as0euvv65du3Zp4sSJ+vjjjzV48GBJ0rRp0zR16lR999132rdvnz788EOFhISoZMmSKl++vOLi4tSrVy/NmTNH+/fv1zfffKPRo0frs88+u2adGefkq6++qm7dunn9+fYXXnhBa9eu1YABA7Rlyxbt3r1b8+fPdx4GveeeexQTE6MnnnhCGzZs0KZNm/TYY49d81O9dOnh/KNHj+qnn37Stm3b9Pbbb6tJkya699579dxzz/lyqDNp2bKl6tevr86dO+uLL77QgQMHtHbtWr344ovauHHjTR/3R8HBwXrhhRf0/PPP6z//+Y/27t2r9evXOy8ixMXFqXDhwrr//vu1atUq7d+/XytWrNCgQYP0448/Xvc+EjRuk4CAAA0YMECvv/56lp8sM8TExKh06dJ69dVX5e/vrxMnTqhXr14qX768unfvrrZt22rUqFG3sHLkdGXKlNHmzZvVrFkzDRs2TFWqVFGrVq305ZdfKj4+Xi6XS/Pnz1eBAgXUuHFjtWzZUmXKlNHMmTN92s6zzz4rf39/VapUSRERETp06NAV+44ZM0YPPPCAHn74YdWoUUN79uzRkiVLVKBAgRvdXVyHcuXKaePGjSpTpoy6d++usmXLql+/fmrWrJnWrVvn9ZyYJA0bNkwbN27Ufffdp1deeUVjx45VmzZtJF26bD9lyhQ1bNhQ1apV07Jly7RgwQLnWYKEhAT16tVLw4YN0z333KPOnTsrKSlJJUqUuGad0dHRqlOnjrZu3eq8bZKhWrVqWrlypXbt2qW//OUvuu+++/TSSy8pMjLS6ZOQkKDIyEg1adJEXbt2Vb9+/a7ruyy+//57FStWTCVKlFDTpk01a9YsjRgxQqtWrfK65ZMdLpdLn3/+uRo3bqxHHnlE5cuXV8+ePXXw4EHn7Y+bOe5yf//73zVs2DC99NJLqlixonr06OE8w5EnTx59/fXXKlGihLp27aqKFSuqb9++On/+vMLCwq5/H40vTwABAAD4gCsaAADAGoIGAACwhqABAACsIWgAAABrCBoAAMAaggYAALCGoAEAAKwhaAAAAGsIGgAAwBqCBgAAsIagAQAArPn/Tonp43xbKXMAAAAASUVORK5CYII=\n",
      "text/plain": [
       "<Figure size 640x480 with 1 Axes>"
      ]
     },
     "metadata": {},
     "output_type": "display_data"
    }
   ],
   "source": [
    "plt.bar(range(len(bar_dict)), list(bar_dict.values()), tick_label=list(bar_dict.keys()), width=.5)\n",
    "plt.title('Average Weeks Lasted')"
   ]
  },
  {
   "cell_type": "code",
   "execution_count": 360,
   "id": "7148f777-257c-4e9e-86a6-5b78b19b58cd",
   "metadata": {},
   "outputs": [],
   "source": [
    "#Run Permutation Test\n",
    "perm_diffs = [perm_fun(final_df, bachelor_firr_dict, control_group) for _ in range(1000)]"
   ]
  },
  {
   "cell_type": "code",
   "execution_count": 373,
   "id": "187b1ec9-0ca7-4614-9c72-857e364561b3",
   "metadata": {},
   "outputs": [
    {
     "data": {
      "text/plain": [
       "0.01"
      ]
     },
     "execution_count": 373,
     "metadata": {},
     "output_type": "execute_result"
    }
   ],
   "source": [
    "#Calculate P Value\n",
    "np.mean([diff > ground_truth for diff in perm_diffs])"
   ]
  },
  {
   "cell_type": "code",
   "execution_count": 374,
   "id": "6382cd82-a20b-46dc-88bc-6089a5315da1",
   "metadata": {},
   "outputs": [
    {
     "data": {
      "text/plain": [
       "Text(0, 0.5, 'Number of Permutations')"
      ]
     },
     "execution_count": 374,
     "metadata": {},
     "output_type": "execute_result"
    },
    {
     "data": {
      "image/png": "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\n",
      "text/plain": [
       "<Figure size 640x480 with 1 Axes>"
      ]
     },
     "metadata": {},
     "output_type": "display_data"
    }
   ],
   "source": [
    "#Create Histograph to illustrate Permutation Test\n",
    "plt.hist(perm_diffs, bins=11, rwidth=0.9)\n",
    "plt.axvline(x = ground_truth, color='black', lw=2)\n",
    "plt.text(1.7, 150, 'Observed\\ndifference', bbox={'facecolor':'white'})\n",
    "plt.xlabel('Difference in weeks lasted averages')\n",
    "plt.ylabel('Number of Permutations')"
   ]
  },
  {
   "cell_type": "code",
   "execution_count": 316,
   "id": "5cb2c3b1-ee78-4742-b350-2604d43fe39e",
   "metadata": {},
   "outputs": [],
   "source": [
    "#Create First Impression Rose Recipient List for Horizontal Bar Graph\n",
    "firr_list = list(bachelor_firr_dict.values())"
   ]
  },
  {
   "cell_type": "code",
   "execution_count": 354,
   "id": "92ac66eb-2f3b-4464-bedb-c5c9828f2446",
   "metadata": {},
   "outputs": [],
   "source": [
    "#Create dataframe for Horizontal Bar Graph\n",
    "barh_subset = final_df.loc[final_df['Name'].isin(firr_list)]"
   ]
  },
  {
   "cell_type": "code",
   "execution_count": 390,
   "id": "1b5b0a87-099f-407f-be75-194f35bd1164",
   "metadata": {},
   "outputs": [
    {
     "data": {
      "image/png": "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\n",
      "text/plain": [
       "<Figure size 640x480 with 1 Axes>"
      ]
     },
     "metadata": {},
     "output_type": "display_data"
    }
   ],
   "source": [
    "#Create Horizontal Bar Graph for Weeks Lasted by First Impression Rose Recipients.
    "ax = barh_subset.plot.barh(x='Name', y='End')
    "plt.title('Weeks Lasted by FIRRs')
    "plt.legend().remove()
   ]
  },
  {
   "cell_type": "code",
   "execution_count": null,
   "id": "07720c3c-f683-4498-b306-a65a0b8e8ecf",
   "metadata": {},
   "outputs": [],
   "source": []
  }
 ],
 "metadata": {
  "kernelspec": {
   "display_name": "Python 3 (ipykernel)",
   "language": "python",
   "name": "python3"
  },
  "language_info": {
   "codemirror_mode": {
    "name": "ipython",
    "version": 3
   },
   "file_extension": ".py",
   "mimetype": "text/x-python",
   "name": "python",
   "nbconvert_exporter": "python",
   "pygments_lexer": "ipython3",
   "version": "3.11.1"
  }
 },
 "nbformat": 4,
 "nbformat_minor": 5
}
