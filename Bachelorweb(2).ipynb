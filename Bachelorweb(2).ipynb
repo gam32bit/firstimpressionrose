{
 "cells": [
  {
   "cell_type": "markdown",
   "id": "7e937756-6986-476d-883a-82833abc6099",
   "metadata": {},
   "source": [
    "<h1>The Bachelor First Impression Rose Permutation Test</h1>"
   ]
  },
  {
   "cell_type": "markdown",
   "id": "a91ee46e-692a-40c5-9f47-6687c24308be",
   "metadata": {},
   "source": [
    "The purpose of this script is to gather and clean data from the Bachelor Nation Wiki, create a subset of First Impression Rose recipients and a subset of random contestants from the same seasons, and then run a permutation test with these subsets to determine whether the first impression rose is statistically significant in extending contestant runs on The Bachelor."
   ]
  },
  {
   "cell_type": "code",
   "execution_count": 3,
   "id": "cbe7b9d3-b029-4d4f-8d6d-841b4b16da58",
   "metadata": {},
   "outputs": [],
   "source": [
    "import pandas as pd\n",
    "import time\n",
    "from selenium import webdriver\n",
    "from selenium.webdriver.chrome.service import Service\n",
    "from selenium.webdriver.common.by import By\n",
    "from webdriver_manager.chrome import ChromeDriverManager\n",
    "pd.options.display.max_colwidth = 200\n",
    "import numpy as np\n",
    "import random\n",
    "import matplotlib.pyplot as plt"
   ]
  },
  {
   "cell_type": "markdown",
   "id": "ce643122-3b08-41c1-a158-214f5ca3393c",
   "metadata": {},
   "source": [
    "We create a Selenium Web-Scraping Driver for Chrome."
   ]
  },
  {
   "cell_type": "code",
   "execution_count": 4,
   "id": "8c6fcc18-66ea-4503-8c8a-4ef9f38f99b4",
   "metadata": {},
   "outputs": [],
   "source": [
    "driver = webdriver.Chrome(service=Service(ChromeDriverManager().install()))"
   ]
  },
  {
   "cell_type": "markdown",
   "id": "25d2a295-72d2-4db2-954a-b0f19eebaedf",
   "metadata": {},
   "source": [
    "We load the Bachelor Nation Wiki Seasons page with a timer to account for loading time."
   ]
  },
  {
   "cell_type": "code",
   "execution_count": 5,
   "id": "c6f4c963-7df6-4f59-a74a-bdaa7bef470a",
   "metadata": {},
   "outputs": [],
   "source": [
    "page_url = 'https://bachelor-nation.fandom.com/wiki/Category:The_Bachelor_seasons'\n",
    "driver.get(page_url)\n",
    "time.sleep(3)"
   ]
  },
  {
   "cell_type": "markdown",
   "id": "27569989-0905-435b-a4db-7b802d96fa3f",
   "metadata": {},
   "source": [
    "Find Season page links, put them in a list."
   ]
  },
  {
   "cell_type": "code",
   "execution_count": 6,
   "id": "0ed3a0df-860b-4e31-8f35-a257a1d3b596",
   "metadata": {},
   "outputs": [],
   "source": [
    "Bachelor_seasons = driver.find_elements(By.CLASS_NAME, 'category-page__member-link')\n",
    "time.sleep(3)"
   ]
  },
  {
   "cell_type": "code",
   "execution_count": 7,
   "id": "a7836887-d0de-4725-8652-95b8ac133abe",
   "metadata": {},
   "outputs": [],
   "source": [
    "seasons = []"
   ]
  },
  {
   "cell_type": "code",
   "execution_count": 8,
   "id": "9b0bce6d-48b4-4900-90d0-bc50914e1219",
   "metadata": {},
   "outputs": [
    {
     "data": {
      "text/plain": [
       "<function print(*args, sep=' ', end='\\n', file=None, flush=False)>"
      ]
     },
     "execution_count": 8,
     "metadata": {},
     "output_type": "execute_result"
    }
   ],
   "source": [
    "for season in Bachelor_seasons:\n",
    "    season_url = season.get_attribute('href')\n",
    "    season_num = season.text\n",
    "    seasons.append({'season_num': season_num, \"url\": season_url})"
   ]
  },
  {
   "cell_type": "markdown",
   "id": "a2ffa6a4-5642-4654-9ce6-7961358da506",
   "metadata": {},
   "source": [
    "Iterate through season pages to collect contestant information. Print complete to notify when done."
   ]
  },
  {
   "cell_type": "code",
   "execution_count": 9,
   "id": "ae4037ac-1e29-4076-b66d-e45cfae2e06e",
   "metadata": {},
   "outputs": [
    {
     "name": "stdout",
     "output_type": "stream",
     "text": [
      "complete\n"
     ]
    }
   ],
   "source": [
    "contestant_list = []\n",
    "for season in seasons:\n",
    "    # go to season page\n",
    "    driver.get(season['url'])\n",
    "    #find contestants by class, add them to list\n",
    "    contestant_elems = driver.find_elements(By.CLASS_NAME, 'lightbox-caption')\n",
    "    time.sleep(3)\n",
    "    for elem in contestant_elems:\n",
    "        contestant_list.append({'season': season['season_num'],'contestant': elem.text})\n",
    "print(\"complete\")     "
   ]
  },
  {
   "cell_type": "code",
   "execution_count": 10,
   "id": "8201e49a-afb4-487d-8739-c95659a0151e",
   "metadata": {},
   "outputs": [],
   "source": [
    "#Create contestant dataframe, convert season column to string\n",
    "contestants_df = pd.DataFrame(contestant_list)\n",
    "contestants_df['season'] = contestants_df['season'].astype(str)"
   ]
  },
  {
   "cell_type": "code",
   "execution_count": 11,
   "id": "d3510e9b-5b56-4a12-b1af-719228c68b03",
   "metadata": {},
   "outputs": [],
   "source": [
    "# remove seasons less than 9 and season 27\n",
    "contestants_df = contestants_df.loc[contestants_df['season'] != 'The Bachelor (Season 2)']\n",
    "contestants_df = contestants_df.loc[contestants_df['season'] != 'The Bachelor (Season 3)']\n",
    "contestants_df = contestants_df.loc[contestants_df['season'] != 'The Bachelor (Season 6)']\n",
    "contestants_df = contestants_df.loc[contestants_df['season'] != 'The Bachelor (Season 27)']"
   ]
  },
  {
   "cell_type": "code",
   "execution_count": 12,
   "id": "9695f9f5-4b3b-4cb8-ac99-be551d8fbe5a",
   "metadata": {},
   "outputs": [],
   "source": [
    "#remove non-contestant scraped elements (ring pics)\n",
    "contestants_df = contestants_df[contestants_df['contestant'].str.contains('\\n')]"
   ]
  },
  {
   "cell_type": "code",
   "execution_count": 13,
   "id": "c985cb38-7e5a-43be-8456-c2aa998b4b24",
   "metadata": {},
   "outputs": [],
   "source": [
    "#Create Dictionary of First Impression Rose Recipients, excluding outlier Season 17\n",
    "bachelor_firr_dict = {9:'Lisa Blank', 10:'Stephanie Tipper', 11:'Jenni Croft', 12:'Amanda Rantuccio', 13:'Nikki Kaapke',\n",
    "             14:'Tenley Molzahn', 15:'Ashley Spivey', 16:'Lindzi Cox', 18: 'Sharleen Joynt', 19:'Britt Nilsson',\n",
    "             20:'Olivia Caridi', 21:'Rachel Lindsay', 22:'Chelsea Roy', 23:'Hannah Godwin', 24:'Hannah Sluss',\n",
    "             25:'Abigail Heringer', 26:'Teddi Wright'}"
   ]
  },
  {
   "cell_type": "code",
   "execution_count": 14,
   "id": "211d87bf-14a8-4b65-b4ce-23bfd232c8a2",
   "metadata": {},
   "outputs": [],
   "source": [
    "#Dictionary to make seasons bite-size\n",
    "season_dict = {'The Bachelor (Season 9)':'9',\n",
    "               'The Bachelor (Season 10)':'10',\n",
    "               'The Bachelor (Season 11)':'11',\n",
    "               'The Bachelor (Season 12)':'12',\n",
    "               'The Bachelor (Season 13)':'13',\n",
    "               'The Bachelor (Season 14)':'14',\n",
    "               'The Bachelor (Season 15)':'15',\n",
    "               'The Bachelor (Season 16)':'16',\n",
    "               'The Bachelor (Season 17)':'17',\n",
    "               'The Bachelor (Season 18)':'18',\n",
    "               'The Bachelor (Season 19)':'19',\n",
    "               'The Bachelor (Season 20)':'20',\n",
    "               'The Bachelor (Season 21)':'21',\n",
    "               'The Bachelor (Season 22)':'22',\n",
    "               'The Bachelor (Season 23)':'23',\n",
    "               'The Bachelor (Season 24)':'24',\n",
    "               'The Bachelor (Season 25)':'25',\n",
    "               'The Bachelor (Season 26)':'26'}"
   ]
  },
  {
   "cell_type": "code",
   "execution_count": 15,
   "id": "6e56139d-47b1-45de-a9e4-c109bb167582",
   "metadata": {},
   "outputs": [],
   "source": [
    "#dictionary to convert which week contestant was eliminated into a number\n",
    "end_dict = {'week 1':1,\n",
    "            'week 2':2,\n",
    "            'week 3':3,\n",
    "            'week 4':4,\n",
    "            'week 5':5,\n",
    "            'week 6':6,\n",
    "            'week 7':7,\n",
    "            'week 8':8,\n",
    "            'week 9':9,\n",
    "            'Winner':10,\n",
    "            'Runner':10}"
   ]
  },
  {
   "cell_type": "code",
   "execution_count": 16,
   "id": "e7aa2945-642b-474d-af57-c2ee2a59b841",
   "metadata": {},
   "outputs": [],
   "source": [
    "#create index for number of lines in contestant text profiles\n",
    "contestants_df['idx'] = contestants_df['contestant'].str.count('\\n')"
   ]
  },
  {
   "cell_type": "code",
   "execution_count": 17,
   "id": "4fec0fdf-d4fa-44ee-934e-fa70ba768461",
   "metadata": {},
   "outputs": [],
   "source": [
    "#correct outlier contestant profiles with extra info\n",
    "contestants_df.loc[contestants_df.contestant.str.contains('Jordan Branch'), 'contestant'] = 'Jordan Branch\\n24\\nWindsor, Colorado\\nStudent\\nEliminated in week 2'\n",
    "contestants_df.loc[contestants_df.contestant.str.contains('Kimberly Sherbach'), 'contestant'] = 'Kimberly Sherbach\\n28\\nWantagh, New York\\nYoga Instructor\\nEliminated in week 1'\n",
    "contestants_df.loc[contestants_df.contestant.str.contains('Cassie Randolph'), 'contestant'] = 'Cassie Randolph\\n23\\nHuntington Beach, California\\nSpeech pathologist\\nWinner'\n",
    "contestants_df.loc[contestants_df.contestant.str.contains('Alayah Benavidez'), 'contestant'] = 'Alayah Benavidez\\n24\\nSan Antonio, Texas\\nMiss Texas 2019\\nEliminated in week 3'\n",
    "contestants_df.loc[contestants_df.contestant.str.contains('Susie Evans'), 'contestant'] = 'Susie Evans\\n28\\nWedding Videographer\\nPoquoson, Virginia\\nWinner'"
   ]
  },
  {
   "cell_type": "code",
   "execution_count": 18,
   "id": "33d52bf7-93b3-469c-9d27-7ede92f084d7",
   "metadata": {},
   "outputs": [],
   "source": [
    "#separate text into multiple columns. Lessons learned = use copies of dataframes and break down long equations to base elements to find errors\n",
    "cdf_final = contestants_df.copy()\n",
    "cdf_final[['Name', 'Age','Hometown','Occupation','End']] = contestants_df.contestant.str.split('\\n', expand=True)"
   ]
  },
  {
   "cell_type": "code",
   "execution_count": 19,
   "id": "1db47122-944e-4444-abcc-3160a0665eb0",
   "metadata": {},
   "outputs": [],
   "source": [
    "#fix nickname entries\n",
    "cdf_final.loc[cdf_final.contestant.str.contains('Nicole \"Nikki\" Kaapke'), 'Name'] = 'Nikki Kaapke'\n",
    "cdf_final.loc[cdf_final.contestant.str.contains('Lindsey \"Lindzi\" Cox'), 'Name'] = 'Lindzi Cox'\n"
   ]
  },
  {
   "cell_type": "code",
   "execution_count": 20,
   "id": "43c9a94e-825a-4b16-a492-4c3dc7c154a8",
   "metadata": {},
   "outputs": [],
   "source": [
    "#Permutation function\n",
    "def perm_fun(data, dict1, dict2):\n",
    "    #combines contestants into one list\n",
    "    total_list = list(dict1.values()) + list(dict2.values())\n",
    "    random.shuffle(total_list)\n",
    "    fake_keys = list(range(0, 17))\n",
    "    perm1 = {fake_keys[i]:total_list[:17][i] for i in range(len(fake_keys))}\n",
    "    perm2 = {fake_keys[i]:total_list[17:][i] for i in range(len(fake_keys))}\n",
    "    return abs(week_mean(data, perm1) - week_mean(data,perm2))\n"
   ]
  },
  {
   "cell_type": "code",
   "execution_count": 21,
   "id": "f965f9ff-8e4e-4783-b547-135c41b941b6",
   "metadata": {},
   "outputs": [],
   "source": [
    "#function for converting Elimination status to integers\n",
    "def convert_end(data, conv_dict):\n",
    "    clone_data = data.copy()\n",
    "    for idx, row in clone_data.iterrows():\n",
    "        end = row.End\n",
    "        for key, value in conv_dict.items():\n",
    "            if type(end) == int:\n",
    "                continue\n",
    "            elif key in end:\n",
    "                clone_data.at[idx, 'End'] = value\n",
    "    return clone_data"
   ]
  },
  {
   "cell_type": "code",
   "execution_count": 22,
   "id": "c85499dd-d7dc-4383-9c46-84915dc9d0d1",
   "metadata": {},
   "outputs": [],
   "source": [
    "#Map dictionaries to make dataframe easier to use, remove contestants eliminated in Week 1\n",
    "test_array = pd.array([10])\n",
    "cdf_final = cdf_final.replace({'season':season_dict})\n",
    "cdf_final_sub = cdf_final[cdf_final['End'] != 1]\n",
    "final_df = convert_end(cdf_final_sub, end_dict)"
   ]
  },
  {
   "cell_type": "code",
   "execution_count": 23,
   "id": "241bbb3f-2084-4e92-87bb-73f16eb224f3",
   "metadata": {},
   "outputs": [],
   "source": [
    "#function to calculate the average weeks lasted by one group of contestants\n",
    "def week_mean(data, group_dict):\n",
    "    total = []\n",
    "    for key, value in group_dict.items():\n",
    "        total.append(data.loc[data['Name'] == value, 'End'].item())\n",
    "    return np.mean(total)\n"
   ]
  },
  {
   "cell_type": "code",
   "execution_count": 24,
   "id": "2bb0103a-9620-41f3-a2d8-193686ba39d3",
   "metadata": {},
   "outputs": [],
   "source": [
    "# function to create list of the week each contestant of group was eliminated\n",
    "def week_total(data, group_dict):\n",
    "    total = []\n",
    "    for key, value in group_dict.items():\n",
    "        total.append(data.loc[data['Name'] == value, 'End'].item())\n",
    "    return total"
   ]
  },
  {
   "cell_type": "code",
   "execution_count": 25,
   "id": "fe0c7647-276a-4f62-abdd-2f869927f205",
   "metadata": {},
   "outputs": [],
   "source": [
    "#Function to create Control Group of Random contestants\n",
    "def test_group(data,group_dict):\n",
    "    random_dict = group_dict.copy()\n",
    "    for key, value in random_dict.items():\n",
    "        season_cont = data.loc[data['season'] == str(key)]\n",
    "        season_cont = season_cont.loc[season_cont['Name'] != value]\n",
    "        random_dict[key] = season_cont.Name.sample().item()\n",
    "    return random_dict\n",
    "        "
   ]
  },
  {
   "cell_type": "code",
   "execution_count": 26,
   "id": "84921e6b-8ebf-4276-8779-64f6a34b0b0f",
   "metadata": {},
   "outputs": [
    {
     "data": {
      "text/plain": [
       "7.176470588235294"
      ]
     },
     "execution_count": 26,
     "metadata": {},
     "output_type": "execute_result"
    }
   ],
   "source": [
    "#Calculate Average Weeks Lasted for First Impression Rose Recipients\n",
    "firr_mean = week_mean(final_df, bachelor_firr_dict)\n",
    "firr_mean"
   ]
  },
  {
   "cell_type": "code",
   "execution_count": 27,
   "id": "8d531460-a513-484a-af2e-6a6abf74983b",
   "metadata": {},
   "outputs": [
    {
     "data": {
      "text/plain": [
       "3.8823529411764706"
      ]
     },
     "execution_count": 27,
     "metadata": {},
     "output_type": "execute_result"
    }
   ],
   "source": [
    "#Create Control Group of Random Contestants excluding FIRR\n",
    "control_group = test_group(final_df, bachelor_firr_dict)\n",
    "control_mean = week_mean(final_df, control_group)\n",
    "control_mean"
   ]
  },
  {
   "cell_type": "code",
   "execution_count": 28,
   "id": "ff86d807-f028-4074-8066-1d42c34a62e2",
   "metadata": {},
   "outputs": [
    {
     "data": {
      "text/plain": [
       "3.294117647058824"
      ]
     },
     "execution_count": 28,
     "metadata": {},
     "output_type": "execute_result"
    }
   ],
   "source": [
    "#Calculate Observed Difference between FIRR and Control Group\n",
    "ground_truth = abs(firr_mean - control_mean)\n",
    "ground_truth"
   ]
  },
  {
   "cell_type": "code",
   "execution_count": 29,
   "id": "67f4e9ca-f594-4c93-b487-155a74be4fd0",
   "metadata": {},
   "outputs": [],
   "source": [
    "#Create Bar Chart to illustrate Average Weeks Lasted Differences between First Impression Rose Recipient and Control Groups\n",
    "bar_dict = {'FIRRs':firr_mean, 'Control': control_mean, 'Observed Difference':ground_truth}"
   ]
  },
  {
   "cell_type": "code",
   "execution_count": 30,
   "id": "dc95e3ce-7ea8-4709-abc5-8219862f18a2",
   "metadata": {},
   "outputs": [
    {
     "data": {
      "text/plain": [
       "Text(0.5, 1.0, 'Average Weeks Lasted')"
      ]
     },
     "execution_count": 30,
     "metadata": {},
     "output_type": "execute_result"
    },
    {
     "data": {
      "image/png": "[encoded data removed]",
      "text/plain": [
       "<Figure size 640x480 with 1 Axes>"
      ]
     },
     "metadata": {},
     "output_type": "display_data"
    }
   ],
   "source": [
    "plt.bar(range(len(bar_dict)), list(bar_dict.values()), tick_label=list(bar_dict.keys()), width=.5)\n",
    "plt.title('Average Weeks Lasted')"
   ]
  },
  {
   "cell_type": "code",
   "execution_count": 31,
   "id": "7148f777-257c-4e9e-86a6-5b78b19b58cd",
   "metadata": {},
   "outputs": [],
   "source": [
    "#Run Permutation Test\n",
    "perm_diffs = [perm_fun(final_df, bachelor_firr_dict, control_group) for _ in range(1000)]"
   ]
  },
  {
   "cell_type": "code",
   "execution_count": 32,
   "id": "187b1ec9-0ca7-4614-9c72-857e364561b3",
   "metadata": {},
   "outputs": [
    {
     "data": {
      "text/plain": [
       "0.0"
      ]
     },
     "execution_count": 32,
     "metadata": {},
     "output_type": "execute_result"
    }
   ],
   "source": [
    "#Calculate P Value\n",
    "np.mean([diff > ground_truth for diff in perm_diffs])"
   ]
  },
  {
   "cell_type": "code",
   "execution_count": 33,
   "id": "6382cd82-a20b-46dc-88bc-6089a5315da1",
   "metadata": {},
   "outputs": [
    {
     "data": {
      "text/plain": [
       "Text(0, 0.5, 'Number of Permutations')"
      ]
     },
     "execution_count": 33,
     "metadata": {},
     "output_type": "execute_result"
    },
    {
     "data": {
      "image/png": "[encoded data removed]",
      "text/plain": [
       "<Figure size 640x480 with 1 Axes>"
      ]
     },
     "metadata": {},
     "output_type": "display_data"
    }
   ],
   "source": [
    "#Create Histograph to illustrate Permutation Test\n",
    "plt.hist(perm_diffs, bins=11, rwidth=0.9)\n",
    "plt.axvline(x = ground_truth, color='black', lw=2)\n",
    "plt.text(1.7, 150, 'Observed\\ndifference', bbox={'facecolor':'white'})\n",
    "plt.xlabel('Difference in weeks lasted averages')\n",
    "plt.ylabel('Number of Permutations')"
   ]
  },
  {
   "cell_type": "code",
   "execution_count": 34,
   "id": "5cb2c3b1-ee78-4742-b350-2604d43fe39e",
   "metadata": {},
   "outputs": [],
   "source": [
    "#Create First Impression Rose Recipient List for Horizontal Bar Graph\n",
    "firr_list = list(bachelor_firr_dict.values())"
   ]
  },
  {
   "cell_type": "code",
   "execution_count": 35,
   "id": "92ac66eb-2f3b-4464-bedb-c5c9828f2446",
   "metadata": {},
   "outputs": [],
   "source": [
    "#Create dataframe for Horizontal Bar Graph\n",
    "barh_subset = final_df.loc[final_df['Name'].isin(firr_list)]\n"
   ]
  },
  {
   "cell_type": "code",
   "execution_count": 53,
   "id": "1359fb4d-989b-4112-93f3-f51854e760a3",
   "metadata": {},
   "outputs": [
    {
     "data": {
      "image/png": "[encoded data removed]",
      "text/plain": [
       "<Figure size 640x480 with 1 Axes>"
      ]
     },
     "metadata": {},
     "output_type": "display_data"
    }
   ],
   "source": [
    "#Create Horizontal Bar Graph for Weeks Lasted by First Impression Rose Recipients.\n",
    "ax = barh_subset.plot.barh(x='Name', y='End')\n",
    "plt.title('Weeks Lasted by FIRRs')\n",
    "plt.legend().remove()"
   ]
  },
  {
   "cell_type": "code",
   "execution_count": null,
   "id": "07720c3c-f683-4498-b306-a65a0b8e8ecf",
   "metadata": {},
   "outputs": [],
   "source": []
  }
 ],
 "metadata": {
  "kernelspec": {
   "display_name": "Python 3 (ipykernel)",
   "language": "python",
   "name": "python3"
  },
  "language_info": {
   "codemirror_mode": {
    "name": "ipython",
    "version": 3
   },
   "file_extension": ".py",
   "mimetype": "text/x-python",
   "name": "python",
   "nbconvert_exporter": "python",
   "pygments_lexer": "ipython3",
   "version": "3.11.1"
  }
 },
 "nbformat": 4,
 "nbformat_minor": 5
}
